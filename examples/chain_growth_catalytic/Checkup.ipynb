{
 "cells": [
  {
   "cell_type": "code",
   "execution_count": 8,
   "metadata": {
    "collapsed": true
   },
   "outputs": [],
   "source": [
    "import h5py\n",
    "import networkx"
   ]
  },
  {
   "cell_type": "code",
   "execution_count": 9,
   "metadata": {
    "collapsed": false
   },
   "outputs": [
    {
     "data": {
      "text/plain": [
       "[u'box',\n",
       " u'id',\n",
       " u'image',\n",
       " u'mass',\n",
       " u'position',\n",
       " u'res_id',\n",
       " u'species',\n",
       " u'state']"
      ]
     },
     "execution_count": 9,
     "metadata": {},
     "output_type": "execute_result"
    }
   ],
   "source": [
    "h5 = h5py.File('sim0_12345_traj.h5', 'r')\n",
    "h5['/particles/atoms'].keys()"
   ]
  },
  {
   "cell_type": "code",
   "execution_count": 14,
   "metadata": {
    "collapsed": false
   },
   "outputs": [],
   "source": [
    "cl = h5['/connectivity/chem_bonds_0/value'][-1]\n",
    "species = h5['/particles/atoms/species/value'][-1]\n",
    "state = h5['/particles/atoms/state/value'][-1]"
   ]
  },
  {
   "cell_type": "code",
   "execution_count": 17,
   "metadata": {
    "collapsed": false
   },
   "outputs": [
    {
     "data": {
      "text/plain": [
       "array([ 1,  2,  3, ..., -1, -1, -1])"
      ]
     },
     "execution_count": 17,
     "metadata": {},
     "output_type": "execute_result"
    }
   ],
   "source": [
    "h5['/particles/atoms/id/value'][-1]"
   ]
  },
  {
   "cell_type": "code",
   "execution_count": 31,
   "metadata": {
    "collapsed": false
   },
   "outputs": [],
   "source": [
    "g = networkx.Graph()\n",
    "b_d = []\n",
    "a = []\n",
    "a_star = []\n",
    "for i, s in enumerate(state):\n",
    "    if s != -1:\n",
    "        g.add_node(i+1, state=s, type_id=species[i])\n",
    "        if species[i] in [1, 2]:\n",
    "            b_d.append(i+1)\n",
    "        else:\n",
    "            a.append(i+1)\n",
    "            if s == 2:\n",
    "                a_star.append(i+1)\n",
    "for b in cl:\n",
    "    if -1 not in b:\n",
    "        g.add_edge(b[0], b[1])"
   ]
  },
  {
   "cell_type": "code",
   "execution_count": 32,
   "metadata": {
    "collapsed": false
   },
   "outputs": [],
   "source": [
    "g_bd = g.subgraph(b_d)\n",
    "g_a = g.subgraph(a)\n",
    "g_a_star = g.subgraph(a_star)"
   ]
  },
  {
   "cell_type": "code",
   "execution_count": 37,
   "metadata": {
    "collapsed": false
   },
   "outputs": [
    {
     "data": {
      "text/plain": [
       "{0, 1, 2, 3}"
      ]
     },
     "execution_count": 37,
     "metadata": {},
     "output_type": "execute_result"
    }
   ],
   "source": [
    "{v for k, v in g_a.degree().items()}"
   ]
  },
  {
   "cell_type": "code",
   "execution_count": null,
   "metadata": {
    "collapsed": true
   },
   "outputs": [],
   "source": []
  }
 ],
 "metadata": {
  "hide_input": false,
  "kernelspec": {
   "display_name": "Python 2",
   "language": "python",
   "name": "python2"
  },
  "language_info": {
   "codemirror_mode": {
    "name": "ipython",
    "version": 2
   },
   "file_extension": ".py",
   "mimetype": "text/x-python",
   "name": "python",
   "nbconvert_exporter": "python",
   "pygments_lexer": "ipython2",
   "version": "2.7.11+"
  }
 },
 "nbformat": 4,
 "nbformat_minor": 0
}
