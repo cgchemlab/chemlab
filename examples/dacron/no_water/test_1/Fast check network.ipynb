{
 "cells": [
  {
   "cell_type": "code",
   "execution_count": 1,
   "metadata": {
    "collapsed": true
   },
   "outputs": [],
   "source": [
    "import h5py\n",
    "import networkx as nx"
   ]
  },
  {
   "cell_type": "code",
   "execution_count": 2,
   "metadata": {
    "collapsed": false
   },
   "outputs": [],
   "source": [
    "h5 = h5py.File('sim0_20357_traj.h5', 'r')"
   ]
  },
  {
   "cell_type": "code",
   "execution_count": 3,
   "metadata": {
    "collapsed": false
   },
   "outputs": [
    {
     "data": {
      "text/plain": [
       "[u'chem_bonds_0', u'dynamic_bonds_8']"
      ]
     },
     "execution_count": 3,
     "metadata": {},
     "output_type": "execute_result"
    }
   ],
   "source": [
    "h5['/connectivity'].keys()"
   ]
  },
  {
   "cell_type": "code",
   "execution_count": 4,
   "metadata": {
    "collapsed": false
   },
   "outputs": [
    {
     "data": {
      "text/plain": [
       "array([[ 619, 1141],\n",
       "       [ 619, 3727],\n",
       "       [ 848, 3217],\n",
       "       ..., \n",
       "       [  -1,   -1],\n",
       "       [  -1,   -1],\n",
       "       [  -1,   -1]])"
      ]
     },
     "execution_count": 4,
     "metadata": {},
     "output_type": "execute_result"
    }
   ],
   "source": [
    "h5['/connectivity/chem_bonds_0/value'][-1]"
   ]
  },
  {
   "cell_type": "code",
   "execution_count": 5,
   "metadata": {
    "collapsed": true
   },
   "outputs": [],
   "source": [
    "resid = h5['/particles/atoms/res_id/value'][-1]"
   ]
  },
  {
   "cell_type": "code",
   "execution_count": 6,
   "metadata": {
    "collapsed": false
   },
   "outputs": [],
   "source": [
    "cg_bonds = {\n",
    "    tuple(sorted((resid[b1-1], resid[b2-1]))) for b1, b2 in h5['/connectivity/chem_bonds_0/value'][-1] if b1 != -1 and b2 != -1\n",
    "}"
   ]
  },
  {
   "cell_type": "code",
   "execution_count": 7,
   "metadata": {
    "collapsed": true
   },
   "outputs": [],
   "source": [
    "g = nx.Graph()"
   ]
  },
  {
   "cell_type": "code",
   "execution_count": 8,
   "metadata": {
    "collapsed": false
   },
   "outputs": [],
   "source": [
    "g.add_edges_from(cg_bonds)"
   ]
  },
  {
   "cell_type": "code",
   "execution_count": 9,
   "metadata": {
    "collapsed": false
   },
   "outputs": [
    {
     "data": {
      "text/plain": [
       "189"
      ]
     },
     "execution_count": 9,
     "metadata": {},
     "output_type": "execute_result"
    }
   ],
   "source": [
    "nx.number_connected_components(g)"
   ]
  },
  {
   "cell_type": "code",
   "execution_count": 17,
   "metadata": {
    "collapsed": false
   },
   "outputs": [],
   "source": [
    "g0 = [(x, x.number_of_nodes()) for x in nx.connected_component_subgraphs(g)][0][0]"
   ]
  },
  {
   "cell_type": "code",
   "execution_count": 20,
   "metadata": {
    "collapsed": false
   },
   "outputs": [
    {
     "data": {
      "text/plain": [
       "{1: 2,\n",
       " 2: 2,\n",
       " 3: 1,\n",
       " 6: 2,\n",
       " 11: 2,\n",
       " 22: 2,\n",
       " 34: 1,\n",
       " 39: 1,\n",
       " 48: 1,\n",
       " 49: 2,\n",
       " 52: 1,\n",
       " 61: 2,\n",
       " 72: 2,\n",
       " 79: 2,\n",
       " 88: 2,\n",
       " 89: 2,\n",
       " 90: 1,\n",
       " 91: 2,\n",
       " 119: 2,\n",
       " 129: 2,\n",
       " 138: 2,\n",
       " 148: 2,\n",
       " 191: 1,\n",
       " 204: 2,\n",
       " 210: 2,\n",
       " 238: 2,\n",
       " 247: 2,\n",
       " 251: 2,\n",
       " 256: 2,\n",
       " 258: 2,\n",
       " 259: 1,\n",
       " 260: 1,\n",
       " 265: 1,\n",
       " 273: 2,\n",
       " 277: 2,\n",
       " 288: 2,\n",
       " 290: 2,\n",
       " 309: 2,\n",
       " 310: 2,\n",
       " 315: 1,\n",
       " 319: 2,\n",
       " 322: 2,\n",
       " 324: 2,\n",
       " 325: 2,\n",
       " 331: 1,\n",
       " 335: 2,\n",
       " 336: 2,\n",
       " 346: 2,\n",
       " 347: 2,\n",
       " 352: 2,\n",
       " 358: 1,\n",
       " 372: 1,\n",
       " 377: 1,\n",
       " 379: 2,\n",
       " 384: 2,\n",
       " 393: 2,\n",
       " 397: 2,\n",
       " 408: 2,\n",
       " 412: 1,\n",
       " 422: 2,\n",
       " 426: 2,\n",
       " 428: 2,\n",
       " 439: 2,\n",
       " 442: 2,\n",
       " 445: 1,\n",
       " 448: 1,\n",
       " 461: 2,\n",
       " 468: 2,\n",
       " 471: 2,\n",
       " 476: 2,\n",
       " 478: 2,\n",
       " 479: 2,\n",
       " 483: 2,\n",
       " 484: 2,\n",
       " 496: 2,\n",
       " 501: 2,\n",
       " 502: 2,\n",
       " 508: 1,\n",
       " 510: 1,\n",
       " 511: 2,\n",
       " 512: 1,\n",
       " 523: 2,\n",
       " 525: 1,\n",
       " 533: 1,\n",
       " 542: 2,\n",
       " 543: 2,\n",
       " 551: 2,\n",
       " 561: 2,\n",
       " 563: 2,\n",
       " 569: 1,\n",
       " 574: 1,\n",
       " 579: 2,\n",
       " 592: 2,\n",
       " 602: 2,\n",
       " 603: 2,\n",
       " 607: 2,\n",
       " 622: 2,\n",
       " 623: 2,\n",
       " 624: 2,\n",
       " 625: 2,\n",
       " 632: 1,\n",
       " 644: 2,\n",
       " 649: 2,\n",
       " 653: 2,\n",
       " 654: 2,\n",
       " 667: 2,\n",
       " 668: 2,\n",
       " 670: 2,\n",
       " 673: 2,\n",
       " 674: 1,\n",
       " 679: 2,\n",
       " 682: 2,\n",
       " 694: 2,\n",
       " 714: 2,\n",
       " 721: 2,\n",
       " 726: 1,\n",
       " 734: 1,\n",
       " 737: 2,\n",
       " 745: 2,\n",
       " 747: 1,\n",
       " 751: 2,\n",
       " 758: 2,\n",
       " 765: 2,\n",
       " 769: 2,\n",
       " 774: 2,\n",
       " 776: 2,\n",
       " 777: 2,\n",
       " 780: 2,\n",
       " 790: 2,\n",
       " 791: 2,\n",
       " 796: 2,\n",
       " 803: 2,\n",
       " 810: 2,\n",
       " 817: 2,\n",
       " 819: 2,\n",
       " 821: 2,\n",
       " 827: 2,\n",
       " 828: 2,\n",
       " 831: 2,\n",
       " 839: 2,\n",
       " 840: 2,\n",
       " 848: 2,\n",
       " 853: 1,\n",
       " 857: 2,\n",
       " 859: 2,\n",
       " 867: 2,\n",
       " 872: 2,\n",
       " 873: 1,\n",
       " 889: 2,\n",
       " 894: 2,\n",
       " 902: 2,\n",
       " 904: 2,\n",
       " 916: 2,\n",
       " 924: 2,\n",
       " 927: 2,\n",
       " 934: 2,\n",
       " 935: 2,\n",
       " 939: 2,\n",
       " 941: 2,\n",
       " 942: 2,\n",
       " 944: 2,\n",
       " 947: 1,\n",
       " 948: 2,\n",
       " 956: 2,\n",
       " 960: 2,\n",
       " 963: 1,\n",
       " 969: 2,\n",
       " 977: 2,\n",
       " 979: 2,\n",
       " 981: 2,\n",
       " 996: 2,\n",
       " 1001: 1,\n",
       " 1003: 2,\n",
       " 1010: 3,\n",
       " 1019: 2,\n",
       " 1020: 2,\n",
       " 1028: 3,\n",
       " 1029: 3,\n",
       " 1041: 2,\n",
       " 1051: 2,\n",
       " 1070: 1,\n",
       " 1071: 2,\n",
       " 1080: 2,\n",
       " 1081: 3,\n",
       " 1083: 3,\n",
       " 1088: 3,\n",
       " 1094: 4,\n",
       " 1098: 1,\n",
       " 1100: 2,\n",
       " 1135: 2,\n",
       " 1143: 2,\n",
       " 1148: 2,\n",
       " 1152: 2,\n",
       " 1158: 3,\n",
       " 1160: 2,\n",
       " 1161: 2,\n",
       " 1163: 1,\n",
       " 1167: 2,\n",
       " 1171: 2,\n",
       " 1174: 3,\n",
       " 1179: 2,\n",
       " 1183: 2,\n",
       " 1194: 3,\n",
       " 1198: 2,\n",
       " 1204: 1,\n",
       " 1211: 2,\n",
       " 1227: 3,\n",
       " 1228: 3,\n",
       " 1234: 1,\n",
       " 1244: 2,\n",
       " 1250: 2,\n",
       " 1252: 3,\n",
       " 1255: 2,\n",
       " 1256: 3,\n",
       " 1257: 2,\n",
       " 1267: 2,\n",
       " 1275: 2,\n",
       " 1276: 2,\n",
       " 1282: 3,\n",
       " 1297: 2,\n",
       " 1305: 2,\n",
       " 1312: 2,\n",
       " 1323: 2,\n",
       " 1330: 4,\n",
       " 1332: 2,\n",
       " 1336: 1,\n",
       " 1340: 2,\n",
       " 1342: 2,\n",
       " 1346: 2,\n",
       " 1349: 3,\n",
       " 1364: 3,\n",
       " 1372: 1,\n",
       " 1383: 2,\n",
       " 1385: 2,\n",
       " 1388: 3,\n",
       " 1402: 2,\n",
       " 1404: 2,\n",
       " 1406: 2,\n",
       " 1411: 2,\n",
       " 1415: 2,\n",
       " 1426: 2,\n",
       " 1429: 3,\n",
       " 1430: 3,\n",
       " 1442: 2,\n",
       " 1444: 2,\n",
       " 1445: 2,\n",
       " 1447: 4,\n",
       " 1458: 2,\n",
       " 1459: 2,\n",
       " 1467: 4,\n",
       " 1502: 2,\n",
       " 1506: 3,\n",
       " 1522: 1,\n",
       " 1523: 1,\n",
       " 1530: 3,\n",
       " 1542: 3,\n",
       " 1551: 2,\n",
       " 1554: 2,\n",
       " 1568: 1,\n",
       " 1576: 2,\n",
       " 1583: 3,\n",
       " 1596: 4,\n",
       " 1597: 2,\n",
       " 1598: 2,\n",
       " 1612: 2,\n",
       " 1625: 2,\n",
       " 1634: 2,\n",
       " 1645: 2,\n",
       " 1655: 2,\n",
       " 1676: 4,\n",
       " 1680: 2,\n",
       " 1682: 3,\n",
       " 1714: 3,\n",
       " 1722: 1,\n",
       " 1726: 2,\n",
       " 1727: 3,\n",
       " 1739: 1,\n",
       " 1740: 3,\n",
       " 1748: 3,\n",
       " 1754: 2,\n",
       " 1755: 1,\n",
       " 1770: 4,\n",
       " 1771: 2,\n",
       " 1774: 1,\n",
       " 1785: 3,\n",
       " 1802: 2,\n",
       " 1804: 3,\n",
       " 1836: 2,\n",
       " 1843: 2,\n",
       " 1848: 4,\n",
       " 1855: 2,\n",
       " 1867: 1,\n",
       " 1871: 2,\n",
       " 1877: 3,\n",
       " 1879: 2,\n",
       " 1884: 3,\n",
       " 1886: 2,\n",
       " 1900: 3,\n",
       " 1910: 2,\n",
       " 1912: 2,\n",
       " 1915: 3,\n",
       " 1939: 1,\n",
       " 1951: 2,\n",
       " 1964: 3,\n",
       " 1973: 2,\n",
       " 1981: 1,\n",
       " 1982: 4,\n",
       " 1992: 1}"
      ]
     },
     "execution_count": 20,
     "metadata": {},
     "output_type": "execute_result"
    }
   ],
   "source": [
    "g0.degree()"
   ]
  },
  {
   "cell_type": "code",
   "execution_count": null,
   "metadata": {
    "collapsed": true
   },
   "outputs": [],
   "source": []
  }
 ],
 "metadata": {
  "hide_input": false,
  "kernelspec": {
   "display_name": "Python 2",
   "language": "python",
   "name": "python2"
  },
  "language_info": {
   "codemirror_mode": {
    "name": "ipython",
    "version": 2
   },
   "file_extension": ".py",
   "mimetype": "text/x-python",
   "name": "python",
   "nbconvert_exporter": "python",
   "pygments_lexer": "ipython2",
   "version": "2.7.12"
  }
 },
 "nbformat": 4,
 "nbformat_minor": 0
}
